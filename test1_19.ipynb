{
 "cells": [
  {
   "cell_type": "markdown",
   "id": "33ff0af8-7b81-45de-98f3-2c9c89517e51",
   "metadata": {},
   "source": [
    "### 19. Write a function called ‘calculate_mean’ that takes a list of numbers as input and returns the mean (average) of the numbers. The function should calculate the mean using the sum of the numbers divided by the total count.\n"
   ]
  },
  {
   "cell_type": "code",
   "execution_count": 6,
   "id": "87290eab-5623-4b36-8dd7-f8543faeefd9",
   "metadata": {},
   "outputs": [],
   "source": [
    "def calculate_mean(list):\n",
    "    total_sum = sum(list)\n",
    "    count = len(list)\n",
    "    mean = total_sum / count\n",
    "    return mean"
   ]
  },
  {
   "cell_type": "code",
   "execution_count": 8,
   "id": "77beff08-7582-4ee0-89d1-8a2ae470bc75",
   "metadata": {},
   "outputs": [
    {
     "name": "stdout",
     "output_type": "stream",
     "text": [
      "Mean: 20.0\n"
     ]
    }
   ],
   "source": [
    "data = [10, 15, 20, 25, 30]\n",
    "mean_value = calculate_mean(data)\n",
    "print(\"Mean:\", mean_value)"
   ]
  },
  {
   "cell_type": "code",
   "execution_count": null,
   "id": "321ee24d-3187-4aac-a81a-dbc3e7afd386",
   "metadata": {},
   "outputs": [],
   "source": []
  }
 ],
 "metadata": {
  "kernelspec": {
   "display_name": "Python 3 (ipykernel)",
   "language": "python",
   "name": "python3"
  },
  "language_info": {
   "codemirror_mode": {
    "name": "ipython",
    "version": 3
   },
   "file_extension": ".py",
   "mimetype": "text/x-python",
   "name": "python",
   "nbconvert_exporter": "python",
   "pygments_lexer": "ipython3",
   "version": "3.10.6"
  }
 },
 "nbformat": 4,
 "nbformat_minor": 5
}
